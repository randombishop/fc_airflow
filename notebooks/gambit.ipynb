{
 "cells": [
  {
   "cell_type": "code",
   "execution_count": null,
   "id": "2abaad17-727e-4f87-be96-db8c4e4780a0",
   "metadata": {
    "tags": []
   },
   "outputs": [],
   "source": [
    "from datetime import datetime, timedelta"
   ]
  },
  {
   "cell_type": "markdown",
   "id": "bed4ce95-535e-4593-9807-fde79cbbee6f",
   "metadata": {},
   "source": [
    "# Notebook parameters"
   ]
  },
  {
   "cell_type": "code",
   "execution_count": null,
   "id": "ae3d9729-57f8-4e94-afea-b42a72312ff6",
   "metadata": {
    "tags": [
     "parameters"
    ]
   },
   "outputs": [],
   "source": [
    "day = (datetime.now().date() - timedelta(days=1)).strftime('%Y-%m-%d')\n",
    "model_folder = 'gs://dsart_nearline1/models/'\n",
    "model_file = 'nn_transformer_202405'\n",
    "source_folder1 = 'gs://dsart_nearline1/pipelines/embeds/'\n",
    "source_folder2 = 'gs://dsart_nearline1/pipelines/samples/100k/'\n",
    "target_folder = 'gs://dsart_nearline1/pipelines/gambit1/'"
   ]
  },
  {
   "cell_type": "code",
   "execution_count": null,
   "id": "69f62ff9-91dd-416f-a788-05d3a723ae0f",
   "metadata": {
    "tags": []
   },
   "outputs": [],
   "source": [
    "day, model_folder, model_file, source_folder1, source_folder2, target_folder "
   ]
  },
  {
   "cell_type": "markdown",
   "id": "b8831bd7-cd14-4a8f-b4f9-87e9a68faa0c",
   "metadata": {},
   "source": [
    "# Dependencies"
   ]
  },
  {
   "cell_type": "code",
   "execution_count": null,
   "id": "7ffde1ba-f3d0-4fa3-86d2-4043d59eb594",
   "metadata": {
    "tags": []
   },
   "outputs": [],
   "source": [
    "! pip install \"tensorflow==2.11.0\""
   ]
  },
  {
   "cell_type": "code",
   "execution_count": null,
   "id": "c7abb665-cb41-4d39-b240-2d0892bb0fa5",
   "metadata": {
    "tags": []
   },
   "outputs": [],
   "source": [
    "import os\n",
    "import pandas\n",
    "import tensorflow as tf\n",
    "import time\n",
    "import numpy\n",
    "import json\n",
    "from dotenv import load_dotenv"
   ]
  },
  {
   "cell_type": "code",
   "execution_count": null,
   "id": "b32d7476-da66-4260-ae4d-71b8e811ab64",
   "metadata": {
    "tags": []
   },
   "outputs": [],
   "source": [
    "load_dotenv()\n",
    "tf.get_logger().setLevel('ERROR')"
   ]
  },
  {
   "cell_type": "code",
   "execution_count": null,
   "id": "29642c48-d803-4cb8-921a-88aa4d01da63",
   "metadata": {},
   "outputs": [],
   "source": []
  },
  {
   "cell_type": "markdown",
   "id": "d0b26a66-2809-4268-96ce-619cde5bbed6",
   "metadata": {
    "tags": []
   },
   "source": [
    "# Prepare Data"
   ]
  },
  {
   "cell_type": "markdown",
   "id": "f567c3f0-8436-41c9-b9c6-5578f2220949",
   "metadata": {
    "tags": []
   },
   "source": [
    "## Load embeddings"
   ]
  },
  {
   "cell_type": "code",
   "execution_count": null,
   "id": "d396c783-0e45-4a95-881f-0e9457d622a1",
   "metadata": {
    "tags": []
   },
   "outputs": [],
   "source": [
    "file1 = day+'_embeds.npy'\n",
    "file1_source = source_folder1 + file1\n",
    "file1_source"
   ]
  },
  {
   "cell_type": "code",
   "execution_count": null,
   "id": "cfe4f0a9-2f25-438d-a202-495ab7c33534",
   "metadata": {
    "tags": []
   },
   "outputs": [],
   "source": [
    "! gsutil cp {file1_source} ."
   ]
  },
  {
   "cell_type": "code",
   "execution_count": null,
   "id": "558325fa-298e-4b6e-b7d1-db813ada6bdf",
   "metadata": {
    "tags": []
   },
   "outputs": [],
   "source": [
    "embeds = numpy.load(file1)\n",
    "embeds.shape"
   ]
  },
  {
   "cell_type": "markdown",
   "id": "f2161d77-d676-43d4-86f1-4f3bc4df0ab7",
   "metadata": {},
   "source": [
    "## Load CSV"
   ]
  },
  {
   "cell_type": "code",
   "execution_count": null,
   "id": "8e28dfa7-b8df-4506-bfc2-49c0ab2da7df",
   "metadata": {
    "tags": []
   },
   "outputs": [],
   "source": [
    "file2 = day+'_df.csv'\n",
    "file2_source = source_folder2 + file2\n",
    "file2_source"
   ]
  },
  {
   "cell_type": "code",
   "execution_count": null,
   "id": "2867d410-aea6-4177-8ea1-41f6ff918052",
   "metadata": {
    "tags": []
   },
   "outputs": [],
   "source": [
    "! gsutil cp {file2_source} ."
   ]
  },
  {
   "cell_type": "code",
   "execution_count": null,
   "id": "ad8520ec-73d1-4bb1-9644-bc2b0fabb86c",
   "metadata": {
    "tags": []
   },
   "outputs": [],
   "source": [
    "df0 = pandas.read_csv(file2, lineterminator='\\n')\n",
    "df0"
   ]
  },
  {
   "cell_type": "markdown",
   "id": "fdf6fbe6-03e4-4b55-bd6d-4dbd3c8643f2",
   "metadata": {},
   "source": [
    "## Load Model"
   ]
  },
  {
   "cell_type": "code",
   "execution_count": null,
   "id": "b1934b2c-dcdc-4d23-9db2-1a854b7fbda1",
   "metadata": {
    "tags": []
   },
   "outputs": [],
   "source": [
    "model_source_h5 = model_folder + model_file + '.h5' \n",
    "model_source_meta = model_folder + model_file + '.json' \n",
    "model_source_h5"
   ]
  },
  {
   "cell_type": "code",
   "execution_count": null,
   "id": "492f93f3-88e3-4de7-8dd7-717231cd2f1c",
   "metadata": {
    "tags": []
   },
   "outputs": [],
   "source": [
    "! gsutil cp {model_source_h5} {model_source_meta} ."
   ]
  },
  {
   "cell_type": "code",
   "execution_count": null,
   "id": "0b3d0fd8-2026-4e6b-bd12-adc76e087d29",
   "metadata": {
    "tags": []
   },
   "outputs": [],
   "source": [
    "with open(model_file + '.json' ) as f:\n",
    "    meta = json.load(f)\n",
    "meta"
   ]
  },
  {
   "cell_type": "code",
   "execution_count": null,
   "id": "d7486cea-e835-496e-a482-e4e6601e191c",
   "metadata": {
    "tags": []
   },
   "outputs": [],
   "source": [
    "model = tf.keras.models.load_model(model_file+'.h5')\n",
    "model.summary()"
   ]
  },
  {
   "cell_type": "code",
   "execution_count": null,
   "id": "f5027fe5-0da8-47b7-9e71-ea1ac2ad0b32",
   "metadata": {},
   "outputs": [],
   "source": []
  },
  {
   "cell_type": "markdown",
   "id": "e16a1c4e-51e5-4f4d-ac07-2a5ed9d0e1aa",
   "metadata": {},
   "source": [
    "# Run Model"
   ]
  },
  {
   "cell_type": "code",
   "execution_count": null,
   "id": "f7f5f4d8-b111-4385-8c48-94d6c04f2c3d",
   "metadata": {},
   "outputs": [],
   "source": [
    "preds = model.predict(embeds)"
   ]
  },
  {
   "cell_type": "code",
   "execution_count": null,
   "id": "0dcf7dcf-83f6-42d7-9fcf-d5c1de136fe8",
   "metadata": {
    "tags": []
   },
   "outputs": [],
   "source": [
    "preds_q = preds[0]\n",
    "preds_cats = preds[1]\n",
    "preds_topics = preds[2]\n",
    "preds_auto = preds[4]\n",
    "preds_q.shape, preds_cats.shape, preds_topics.shape, preds_auto.shape"
   ]
  },
  {
   "cell_type": "code",
   "execution_count": null,
   "id": "5f0ba55b-d507-4665-82df-0e337cb8407f",
   "metadata": {},
   "outputs": [],
   "source": [
    "df_q = pandas.DataFrame(preds_q, columns=meta['questions'])\n",
    "df_q.describe()"
   ]
  },
  {
   "cell_type": "code",
   "execution_count": null,
   "id": "998adcbf-9dac-4bb9-8ea6-d47ae498dfd5",
   "metadata": {
    "tags": []
   },
   "outputs": [],
   "source": [
    "df_cats = pandas.DataFrame(preds_cats, columns=meta['categories'])\n",
    "df_cats.describe()"
   ]
  },
  {
   "cell_type": "code",
   "execution_count": null,
   "id": "d6c2930a-8492-4c7c-9f96-1bd9ff0ab35d",
   "metadata": {
    "tags": []
   },
   "outputs": [],
   "source": [
    "df_topics = pandas.DataFrame(preds_topics, columns=meta['topics'])\n",
    "df_topics.describe()"
   ]
  },
  {
   "cell_type": "code",
   "execution_count": null,
   "id": "2f3f45eb-8d9d-4935-99bf-dbc01fb50bb5",
   "metadata": {
    "tags": []
   },
   "outputs": [],
   "source": [
    "df_encoder = pandas.DataFrame(preds_auto, columns=meta['encoder'])\n",
    "df_encoder.describe()"
   ]
  },
  {
   "cell_type": "code",
   "execution_count": null,
   "id": "67b5a104-af64-4914-9a5d-7909c1828162",
   "metadata": {
    "tags": []
   },
   "outputs": [],
   "source": [
    "df = df0.join(df_q).join(df_cats).join(df_topics).join(df_encoder)\n",
    "df"
   ]
  },
  {
   "cell_type": "code",
   "execution_count": null,
   "id": "6defd040-e253-4d86-b12f-55b161f5d397",
   "metadata": {},
   "outputs": [],
   "source": []
  },
  {
   "cell_type": "markdown",
   "id": "9b68fd69-3c34-4b33-be13-b9c9f8ec4d6e",
   "metadata": {},
   "source": [
    "# Save output and upload to GS"
   ]
  },
  {
   "cell_type": "code",
   "execution_count": null,
   "id": "445888b9-cebf-4406-92c0-a12ce1d52b06",
   "metadata": {
    "tags": []
   },
   "outputs": [],
   "source": [
    "output_file = day + '.csv'\n",
    "output_file"
   ]
  },
  {
   "cell_type": "code",
   "execution_count": null,
   "id": "b1b4e3a9-c85d-4fbc-aa00-d1f76b00b074",
   "metadata": {
    "tags": []
   },
   "outputs": [],
   "source": [
    "df.to_csv(output_file, index=False, float_format='%.2f')"
   ]
  },
  {
   "cell_type": "code",
   "execution_count": null,
   "id": "b3df426c-aa4e-4474-bf41-1a40e2b459ad",
   "metadata": {
    "tags": []
   },
   "outputs": [],
   "source": [
    "! gsutil cp {output_file} {target_folder}"
   ]
  },
  {
   "cell_type": "code",
   "execution_count": null,
   "id": "a398d3bb-1470-4202-a393-aa508c1abbac",
   "metadata": {},
   "outputs": [],
   "source": []
  }
 ],
 "metadata": {
  "environment": {
   "kernel": "conda-base-py",
   "name": "workbench-notebooks.m122",
   "type": "gcloud",
   "uri": "us-docker.pkg.dev/deeplearning-platform-release/gcr.io/workbench-notebooks:m122"
  },
  "kernelspec": {
   "display_name": "Python 3 (ipykernel) (Local)",
   "language": "python",
   "name": "conda-base-py"
  },
  "language_info": {
   "codemirror_mode": {
    "name": "ipython",
    "version": 3
   },
   "file_extension": ".py",
   "mimetype": "text/x-python",
   "name": "python",
   "nbconvert_exporter": "python",
   "pygments_lexer": "ipython3",
   "version": "3.10.14"
  }
 },
 "nbformat": 4,
 "nbformat_minor": 5
}
