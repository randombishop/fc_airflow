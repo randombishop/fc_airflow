{
 "cells": [
  {
   "cell_type": "code",
   "execution_count": null,
   "id": "2abaad17-727e-4f87-be96-db8c4e4780a0",
   "metadata": {
    "tags": []
   },
   "outputs": [],
   "source": [
    "from datetime import datetime, timedelta"
   ]
  },
  {
   "cell_type": "markdown",
   "id": "bed4ce95-535e-4593-9807-fde79cbbee6f",
   "metadata": {},
   "source": [
    "# Notebook parameters"
   ]
  },
  {
   "cell_type": "code",
   "execution_count": null,
   "id": "ae3d9729-57f8-4e94-afea-b42a72312ff6",
   "metadata": {
    "editable": true,
    "slideshow": {
     "slide_type": ""
    },
    "tags": [
     "parameters"
    ]
   },
   "outputs": [],
   "source": [
    "sample_day = (datetime.now().date() - timedelta(days=1)).strftime('%Y-%m-%d')\n",
    "source_folder = 'gs://dsart_nearline1/pipelines/dataset1/'\n",
    "model_folder = 'gs://dsart_nearline1/models/'\n",
    "model_file = 'bird_0_0_1.xgb.json'\n",
    "target_folder = 'gs://dsart_nearline1/pipelines/bird1/'"
   ]
  },
  {
   "cell_type": "code",
   "execution_count": null,
   "id": "69f62ff9-91dd-416f-a788-05d3a723ae0f",
   "metadata": {
    "tags": []
   },
   "outputs": [],
   "source": [
    "sample_day"
   ]
  },
  {
   "cell_type": "markdown",
   "id": "b8831bd7-cd14-4a8f-b4f9-87e9a68faa0c",
   "metadata": {},
   "source": [
    "# Dependencies"
   ]
  },
  {
   "cell_type": "code",
   "execution_count": null,
   "id": "9895449a-2cb3-4d6d-ba73-e37a188e543e",
   "metadata": {
    "tags": []
   },
   "outputs": [],
   "source": [
    "! pip install xgboost"
   ]
  },
  {
   "cell_type": "code",
   "execution_count": null,
   "id": "c7abb665-cb41-4d39-b240-2d0892bb0fa5",
   "metadata": {
    "tags": []
   },
   "outputs": [],
   "source": [
    "import os\n",
    "import pandas\n",
    "import time\n",
    "import numpy\n",
    "import json\n",
    "import xgboost\n",
    "from dotenv import load_dotenv"
   ]
  },
  {
   "cell_type": "markdown",
   "id": "f567c3f0-8436-41c9-b9c6-5578f2220949",
   "metadata": {
    "tags": []
   },
   "source": [
    "# Load data"
   ]
  },
  {
   "cell_type": "code",
   "execution_count": null,
   "id": "15362130-2f58-4d63-8469-4827f746c2cb",
   "metadata": {},
   "outputs": [],
   "source": [
    "def clean_column_names(df):\n",
    "    r = {}\n",
    "    for x in list(df.columns):\n",
    "        if '\\r' in x:\n",
    "            r[x] = x.replace('\\r', '')\n",
    "    if len(r)>0:        \n",
    "        print('renaming', r)\n",
    "        df.rename(columns=r, inplace=True)"
   ]
  },
  {
   "cell_type": "code",
   "execution_count": null,
   "id": "7e4437d3-d670-4073-9a71-1ee64249e157",
   "metadata": {
    "editable": true,
    "slideshow": {
     "slide_type": ""
    },
    "tags": []
   },
   "outputs": [],
   "source": [
    "file1 = sample_day+'.csv'\n",
    "file1_source = source_folder + file1\n",
    "file1_local = sample_day+'_dataset1.csv'\n",
    "file1_source, file1_local"
   ]
  },
  {
   "cell_type": "code",
   "execution_count": null,
   "id": "aa8bf95f-f9c5-45c4-bbbd-fc731e78c4c4",
   "metadata": {
    "editable": true,
    "slideshow": {
     "slide_type": ""
    },
    "tags": []
   },
   "outputs": [],
   "source": [
    "! gsutil cp {file1_source} {file1_local}"
   ]
  },
  {
   "cell_type": "code",
   "execution_count": null,
   "id": "16e60b0e-1d87-47ae-866c-ce3afffaf838",
   "metadata": {
    "editable": true,
    "slideshow": {
     "slide_type": ""
    },
    "tags": [
     "parameters"
    ]
   },
   "outputs": [],
   "source": [
    "df1 = pandas.read_csv(file1_local, lineterminator='\\n')"
   ]
  },
  {
   "cell_type": "code",
   "execution_count": null,
   "id": "9970de4c-9699-4dab-9959-4f55b2fc5d65",
   "metadata": {
    "editable": true,
    "slideshow": {
     "slide_type": ""
    },
    "tags": [
     "parameters"
    ]
   },
   "outputs": [],
   "source": [
    "clean_column_names(df1)"
   ]
  },
  {
   "cell_type": "code",
   "execution_count": null,
   "id": "eeb73299-15b0-4e4e-8e1b-f6f4afe29ad5",
   "metadata": {},
   "outputs": [],
   "source": [
    "df1"
   ]
  },
  {
   "cell_type": "code",
   "execution_count": null,
   "id": "0af3759a-9ea0-4121-81ed-5736bf328183",
   "metadata": {},
   "outputs": [],
   "source": []
  },
  {
   "cell_type": "markdown",
   "id": "38b27692-b53c-42f3-9dc9-5d2b690632ce",
   "metadata": {
    "tags": []
   },
   "source": [
    "# Load Bird Model"
   ]
  },
  {
   "cell_type": "code",
   "execution_count": null,
   "id": "edc3f56a-42f3-40eb-b141-ba41fa6d0518",
   "metadata": {
    "tags": []
   },
   "outputs": [],
   "source": [
    "file2_source = model_folder + model_file\n",
    "file2_source"
   ]
  },
  {
   "cell_type": "code",
   "execution_count": null,
   "id": "822467ad-260f-4167-8d48-eeeb91ef585c",
   "metadata": {},
   "outputs": [],
   "source": [
    "! gsutil cp {file2_source} ."
   ]
  },
  {
   "cell_type": "code",
   "execution_count": null,
   "id": "1cf14b34-a211-42d1-9168-b07115642f54",
   "metadata": {},
   "outputs": [],
   "source": [
    "bird = xgboost.Booster()"
   ]
  },
  {
   "cell_type": "code",
   "execution_count": null,
   "id": "caa5779e-9014-4663-ac29-d0c8cf7cef83",
   "metadata": {},
   "outputs": [],
   "source": [
    "bird.load_model(model_file)"
   ]
  },
  {
   "cell_type": "code",
   "execution_count": null,
   "id": "32ecaa5a-d873-4562-bfb5-0cecba78ca5f",
   "metadata": {},
   "outputs": [],
   "source": [
    "features = bird.feature_names\n",
    "features"
   ]
  },
  {
   "cell_type": "code",
   "execution_count": null,
   "id": "69cedd2c-9411-4271-9869-575eda6878de",
   "metadata": {},
   "outputs": [],
   "source": []
  },
  {
   "cell_type": "markdown",
   "id": "7d5414d2-38b3-42ad-a6d8-726e4d44a09e",
   "metadata": {},
   "source": [
    "# Apply model"
   ]
  },
  {
   "cell_type": "code",
   "execution_count": null,
   "id": "897bed63-02db-4b7d-9206-79ee725f9f17",
   "metadata": {},
   "outputs": [],
   "source": [
    "dmatrix = xgboost.DMatrix(df1[features])\n",
    "predict = bird.predict(dmatrix)\n",
    "len(predict)"
   ]
  },
  {
   "cell_type": "code",
   "execution_count": null,
   "id": "9729e678-31a6-4f96-b9ae-211b7877e4d2",
   "metadata": {},
   "outputs": [],
   "source": [
    "df1['predict_like'] = (predict * 100).astype(int)"
   ]
  },
  {
   "cell_type": "code",
   "execution_count": null,
   "id": "b40a75ac-ac3e-4432-b95a-bbcabb54a047",
   "metadata": {},
   "outputs": [],
   "source": []
  },
  {
   "cell_type": "markdown",
   "id": "75c5d81f-1b09-4205-a6c0-b83d8e1579e6",
   "metadata": {},
   "source": [
    "## Convert column types"
   ]
  },
  {
   "cell_type": "code",
   "execution_count": null,
   "id": "f273e7ac-68d2-4ab0-9171-33d085426166",
   "metadata": {
    "tags": []
   },
   "outputs": [],
   "source": [
    "features = [x for x in df1.columns if x.startswith('q_') or x.startswith('c_')  or x.startswith('t_')]\n",
    "features"
   ]
  },
  {
   "cell_type": "code",
   "execution_count": null,
   "id": "2d277766-58b7-40e9-8691-f1a24f28586b",
   "metadata": {
    "tags": []
   },
   "outputs": [],
   "source": [
    "for f in features:\n",
    "    df1[f] = (df1[f] * 100).astype(int)"
   ]
  },
  {
   "cell_type": "code",
   "execution_count": null,
   "id": "641b310c-7127-443e-add2-aaffac4dd74e",
   "metadata": {
    "tags": []
   },
   "outputs": [],
   "source": [
    "integers = [\n",
    " 'num_like',\n",
    " 'num_recast',\n",
    " 'num_reply',\n",
    " 'link_from_add',\n",
    " 'link_from_del',\n",
    " 'link_to_add',\n",
    " 'link_to_del',\n",
    " 'num_follower',\n",
    " 'num_following',\n",
    " 'num_follower_bin',\n",
    " 'text_len_bin'\n",
    "]"
   ]
  },
  {
   "cell_type": "code",
   "execution_count": null,
   "id": "3aac84e2-39cc-4e0a-bb67-e9a43549a13e",
   "metadata": {
    "tags": []
   },
   "outputs": [],
   "source": [
    "for f in integers:\n",
    "    df1[f] = df1[f].fillna(0).astype(int)"
   ]
  },
  {
   "cell_type": "code",
   "execution_count": null,
   "id": "97aaf823-c650-4e68-9925-09c51b258d03",
   "metadata": {
    "tags": []
   },
   "outputs": [],
   "source": [
    "booleans = [\n",
    " 'target_05',\n",
    " 'target_10',\n",
    " 'target_15',\n",
    " 'target_20',\n",
    " 'target_25'\n",
    "]"
   ]
  },
  {
   "cell_type": "code",
   "execution_count": null,
   "id": "3ac4c7c6-e7a3-4904-939d-abe4c34da636",
   "metadata": {
    "tags": []
   },
   "outputs": [],
   "source": [
    "for f in booleans:\n",
    "    df1[f] = df1[f].astype(bool)"
   ]
  },
  {
   "cell_type": "code",
   "execution_count": null,
   "id": "26fc29fb-c7fd-41f5-a5bb-2e93a61e8a3e",
   "metadata": {
    "tags": []
   },
   "outputs": [],
   "source": [
    "try:\n",
    "    df1['timestamp'] = pandas.to_datetime(df1['timestamp'],unit='s')\n",
    "except:\n",
    "    df1['timestamp'] = None"
   ]
  },
  {
   "cell_type": "code",
   "execution_count": null,
   "id": "f76ce955-9e59-4a42-b67a-d0f6394bfe64",
   "metadata": {},
   "outputs": [],
   "source": []
  },
  {
   "cell_type": "markdown",
   "id": "c820b5c4-4293-4389-9bc3-b99c423d3c09",
   "metadata": {
    "editable": true,
    "slideshow": {
     "slide_type": ""
    },
    "tags": [
     "parameters"
    ]
   },
   "source": [
    "# Save output"
   ]
  },
  {
   "cell_type": "code",
   "execution_count": null,
   "id": "105dd6ec-f873-4fc5-bfb2-eed9e94ac093",
   "metadata": {
    "tags": []
   },
   "outputs": [],
   "source": [
    "df1"
   ]
  },
  {
   "cell_type": "code",
   "execution_count": null,
   "id": "cd5de841-c2a4-426c-a568-c7dc881897e7",
   "metadata": {
    "tags": []
   },
   "outputs": [],
   "source": [
    "output_file = sample_day + '.csv'\n",
    "output_file"
   ]
  },
  {
   "cell_type": "code",
   "execution_count": null,
   "id": "9e5e3489-564c-4a33-ba17-5ca0d97f3a4a",
   "metadata": {
    "tags": []
   },
   "outputs": [],
   "source": [
    "df1.to_csv(output_file, index=False, float_format='%.2f')"
   ]
  },
  {
   "cell_type": "code",
   "execution_count": null,
   "id": "777243d9-2dd4-4af3-9f98-a26cdede58c4",
   "metadata": {
    "tags": []
   },
   "outputs": [],
   "source": [
    "! gsutil cp {output_file} {target_folder}"
   ]
  },
  {
   "cell_type": "code",
   "execution_count": null,
   "id": "f7f5f4d8-b111-4385-8c48-94d6c04f2c3d",
   "metadata": {},
   "outputs": [],
   "source": []
  }
 ],
 "metadata": {
  "environment": {
   "kernel": "conda-base-py",
   "name": "workbench-notebooks.m122",
   "type": "gcloud",
   "uri": "us-docker.pkg.dev/deeplearning-platform-release/gcr.io/workbench-notebooks:m122"
  },
  "kernelspec": {
   "display_name": "Python 3 (ipykernel) (Local)",
   "language": "python",
   "name": "conda-base-py"
  },
  "language_info": {
   "codemirror_mode": {
    "name": "ipython",
    "version": 3
   },
   "file_extension": ".py",
   "mimetype": "text/x-python",
   "name": "python",
   "nbconvert_exporter": "python",
   "pygments_lexer": "ipython3",
   "version": "3.10.14"
  }
 },
 "nbformat": 4,
 "nbformat_minor": 5
}
