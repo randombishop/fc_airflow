{
 "cells": [
  {
   "cell_type": "code",
   "execution_count": null,
   "id": "2abaad17-727e-4f87-be96-db8c4e4780a0",
   "metadata": {
    "tags": []
   },
   "outputs": [],
   "source": [
    "from datetime import datetime, timedelta"
   ]
  },
  {
   "cell_type": "markdown",
   "id": "bed4ce95-535e-4593-9807-fde79cbbee6f",
   "metadata": {},
   "source": [
    "# Notebook parameters"
   ]
  },
  {
   "cell_type": "code",
   "execution_count": null,
   "id": "ae3d9729-57f8-4e94-afea-b42a72312ff6",
   "metadata": {
    "editable": true,
    "slideshow": {
     "slide_type": ""
    },
    "tags": [
     "parameters"
    ]
   },
   "outputs": [],
   "source": [
    "sample_day = (datetime.now().date() - timedelta(days=1)).strftime('%Y-%m-%d')\n",
    "source_folder1 = 'gs://dsart_nearline1/pipelines/bird1/'\n",
    "target_folder = 'gs://dsart_nearline1/pipelines/digest/'"
   ]
  },
  {
   "cell_type": "code",
   "execution_count": null,
   "id": "69f62ff9-91dd-416f-a788-05d3a723ae0f",
   "metadata": {
    "tags": []
   },
   "outputs": [],
   "source": [
    "sample_day"
   ]
  },
  {
   "cell_type": "markdown",
   "id": "b8831bd7-cd14-4a8f-b4f9-87e9a68faa0c",
   "metadata": {},
   "source": [
    "# Dependencies"
   ]
  },
  {
   "cell_type": "code",
   "execution_count": null,
   "id": "c7abb665-cb41-4d39-b240-2d0892bb0fa5",
   "metadata": {
    "tags": []
   },
   "outputs": [],
   "source": [
    "import os\n",
    "import pandas\n",
    "import time\n",
    "import numpy\n",
    "import json\n",
    "import vertexai\n",
    "from vertexai.generative_models import GenerativeModel\n",
    "import vertexai.preview.generative_models as generative_models\n",
    "from dotenv import load_dotenv"
   ]
  },
  {
   "cell_type": "markdown",
   "id": "f567c3f0-8436-41c9-b9c6-5578f2220949",
   "metadata": {
    "tags": []
   },
   "source": [
    "# Load data"
   ]
  },
  {
   "cell_type": "code",
   "execution_count": null,
   "id": "15362130-2f58-4d63-8469-4827f746c2cb",
   "metadata": {},
   "outputs": [],
   "source": [
    "def clean_column_names(df):\n",
    "    r = {}\n",
    "    for x in list(df.columns):\n",
    "        if '\\r' in x:\n",
    "            r[x] = x.replace('\\r', '')\n",
    "    if len(r)>0:        \n",
    "        print('renaming', r)\n",
    "        df.rename(columns=r, inplace=True)"
   ]
  },
  {
   "cell_type": "code",
   "execution_count": null,
   "id": "7e4437d3-d670-4073-9a71-1ee64249e157",
   "metadata": {
    "editable": true,
    "slideshow": {
     "slide_type": ""
    },
    "tags": []
   },
   "outputs": [],
   "source": [
    "file1 = sample_day+'.csv'\n",
    "file1_source = source_folder1 + file1\n",
    "file1_local = sample_day+'_bird1.csv'\n",
    "file1_source, file1_local"
   ]
  },
  {
   "cell_type": "code",
   "execution_count": null,
   "id": "aa8bf95f-f9c5-45c4-bbbd-fc731e78c4c4",
   "metadata": {
    "editable": true,
    "slideshow": {
     "slide_type": ""
    },
    "tags": []
   },
   "outputs": [],
   "source": [
    "! gsutil cp {file1_source} {file1_local}"
   ]
  },
  {
   "cell_type": "code",
   "execution_count": null,
   "id": "16e60b0e-1d87-47ae-866c-ce3afffaf838",
   "metadata": {
    "editable": true,
    "slideshow": {
     "slide_type": ""
    },
    "tags": [
     "parameters"
    ]
   },
   "outputs": [],
   "source": [
    "df1 = pandas.read_csv(file1_local, lineterminator='\\n')"
   ]
  },
  {
   "cell_type": "code",
   "execution_count": null,
   "id": "9970de4c-9699-4dab-9959-4f55b2fc5d65",
   "metadata": {
    "editable": true,
    "slideshow": {
     "slide_type": ""
    },
    "tags": [
     "parameters"
    ]
   },
   "outputs": [],
   "source": [
    "clean_column_names(df1)"
   ]
  },
  {
   "cell_type": "code",
   "execution_count": null,
   "id": "eeb73299-15b0-4e4e-8e1b-f6f4afe29ad5",
   "metadata": {},
   "outputs": [],
   "source": [
    "df1"
   ]
  },
  {
   "cell_type": "code",
   "execution_count": null,
   "id": "a3e65e11-f9d5-421c-b50a-6dc0fbbfb487",
   "metadata": {},
   "outputs": [],
   "source": []
  },
  {
   "cell_type": "markdown",
   "id": "c9e194f7-2c09-4f4e-abb0-28ac3e3f1c7c",
   "metadata": {},
   "source": [
    "## Configure Vertex AI Model"
   ]
  },
  {
   "cell_type": "code",
   "execution_count": null,
   "id": "693cc5ca-005e-4f8a-a637-2a467217425b",
   "metadata": {
    "tags": []
   },
   "outputs": [],
   "source": [
    "vertexai.init(project=\"deep-mark-425321-r7\", location=\"us-central1\")\n",
    "vertex_model = GenerativeModel(\"gemini-1.5-flash-001\")"
   ]
  },
  {
   "cell_type": "code",
   "execution_count": null,
   "id": "35103301-d4d1-4a94-9b71-173e70ebd145",
   "metadata": {
    "tags": []
   },
   "outputs": [],
   "source": [
    "generation_config = {\n",
    "    \"max_output_tokens\": 1024,\n",
    "    \"temperature\": 1,\n",
    "    \"top_p\": 0.95,\n",
    "}"
   ]
  },
  {
   "cell_type": "code",
   "execution_count": null,
   "id": "35c15b25-a50d-4fa1-b57e-5eef95fc273f",
   "metadata": {
    "tags": []
   },
   "outputs": [],
   "source": [
    "safety_settings = {\n",
    "    generative_models.HarmCategory.HARM_CATEGORY_HATE_SPEECH: generative_models.HarmBlockThreshold.BLOCK_MEDIUM_AND_ABOVE,\n",
    "    generative_models.HarmCategory.HARM_CATEGORY_DANGEROUS_CONTENT: generative_models.HarmBlockThreshold.BLOCK_MEDIUM_AND_ABOVE,\n",
    "    generative_models.HarmCategory.HARM_CATEGORY_SEXUALLY_EXPLICIT: generative_models.HarmBlockThreshold.BLOCK_MEDIUM_AND_ABOVE,\n",
    "    generative_models.HarmCategory.HARM_CATEGORY_HARASSMENT: generative_models.HarmBlockThreshold.BLOCK_MEDIUM_AND_ABOVE,\n",
    "}"
   ]
  },
  {
   "cell_type": "code",
   "execution_count": null,
   "id": "c19c16ef-4478-45fa-abfc-1bc1780ef90c",
   "metadata": {
    "tags": []
   },
   "outputs": [],
   "source": [
    "def call_vertex_ai(prompt):\n",
    "    responses = vertex_model.generate_content(\n",
    "      [prompt],\n",
    "      generation_config=generation_config,\n",
    "      safety_settings=safety_settings)\n",
    "    return responses"
   ]
  },
  {
   "cell_type": "code",
   "execution_count": null,
   "id": "6eeb58b6-2878-4d30-bbc8-3f2c22a4095a",
   "metadata": {
    "tags": []
   },
   "outputs": [],
   "source": [
    "def extract_json(v):\n",
    "    v = v.replace(',}', '}')\n",
    "    if v.find('}')==-1:\n",
    "        v += '}'\n",
    "    start = v.find('{')\n",
    "    end = v.rfind('}')\n",
    "    return v[start:end+1]"
   ]
  },
  {
   "cell_type": "code",
   "execution_count": null,
   "id": "65a56997-3bce-4e6b-bb96-1310d6775acd",
   "metadata": {
    "tags": []
   },
   "outputs": [],
   "source": [
    "def parse_vertex_response(res):\n",
    "    try:\n",
    "        json_string = extract_json(res.text)\n",
    "        parsed = json.loads(json_string)\n",
    "        return parsed\n",
    "    except:\n",
    "        return None"
   ]
  },
  {
   "cell_type": "code",
   "execution_count": null,
   "id": "dcce83d9-b772-4bb9-bc75-18b8a7e25356",
   "metadata": {},
   "outputs": [],
   "source": []
  },
  {
   "cell_type": "markdown",
   "id": "7be532a3-5844-457c-84f6-b2acea4e714c",
   "metadata": {},
   "source": [
    "# Generate digests"
   ]
  },
  {
   "cell_type": "code",
   "execution_count": null,
   "id": "981602e1-d76b-472e-9c3d-6e904427ec63",
   "metadata": {
    "tags": []
   },
   "outputs": [],
   "source": [
    "top_n = 250"
   ]
  },
  {
   "cell_type": "code",
   "execution_count": null,
   "id": "eeaeae3c-26c2-4e70-bead-e61c27caf2d4",
   "metadata": {
    "tags": []
   },
   "outputs": [],
   "source": [
    "category_counts = dict(df1['category_label'].value_counts())\n",
    "category_counts"
   ]
  },
  {
   "cell_type": "code",
   "execution_count": null,
   "id": "92f852e8-bc85-4056-9eac-1e6b66d456a4",
   "metadata": {
    "tags": []
   },
   "outputs": [],
   "source": [
    "categories = list(df1['category_label'].unique())\n",
    "categories"
   ]
  },
  {
   "cell_type": "code",
   "execution_count": null,
   "id": "4fc177c8-c242-4998-9815-51dfa7f459e5",
   "metadata": {
    "tags": []
   },
   "outputs": [],
   "source": [
    "links_cols = [\n",
    "    'id', 'hash', 'fid', 'text', 'topic_label',\n",
    "    'num_like', 'num_recast', 'num_reply',\n",
    "    'predict_like'\n",
    "]"
   ]
  },
  {
   "cell_type": "code",
   "execution_count": null,
   "id": "3dbea02c-6120-47d1-b16c-aa03b08a831f",
   "metadata": {
    "tags": []
   },
   "outputs": [],
   "source": [
    "BASE_PROMPT = \"\"\"\n",
    "INSTRUCTIONS:\n",
    "  - Summarize the following posts.\n",
    "  - Write a catch phrase title.\n",
    "  - Write 2 or 3 paragraphs to describe the main themes and stories covered in the posts.\n",
    "  - Use a journalistic style.\n",
    "  - Include 5 links to reference the most interesting post ids.\n",
    "  - Output the result in json format.\n",
    "  - Make sure you don't use \" in the json title and summary and avoid invalid json.\n",
    "\n",
    "RESPONSE FORMAT:\n",
    "{\n",
    "  \"title\": \"...catch phrase...\",\n",
    "  \"summary\": \"... 2 or 3 paragraphs ...\",\n",
    "  \"links\": [\"uuid1\", \"uuid2\", \"uuid3\", \"uuid4\", \"uuid5\"]\n",
    "}\n",
    "\n",
    "POSTS:\n",
    "\"\"\"\n",
    "print(BASE_PROMPT)"
   ]
  },
  {
   "cell_type": "code",
   "execution_count": null,
   "id": "6f5ab191-5ef6-4ae0-8fbb-9befbdd22085",
   "metadata": {
    "tags": []
   },
   "outputs": [],
   "source": [
    "def make_prompt(df_text):\n",
    "    prompt = BASE_PROMPT\n",
    "    for _,row in df_text.iterrows():\n",
    "        cast_id = row['id']\n",
    "        cast_text = row['text']\n",
    "        prompt += \"\\n\"\n",
    "        prompt += \"<\"+cast_id+\">\\n\"\n",
    "        prompt += cast_text+\"\\n\"\n",
    "        prompt += \"</\"+cast_id+\">\\n\"\n",
    "    return prompt"
   ]
  },
  {
   "cell_type": "code",
   "execution_count": null,
   "id": "9f337579-4698-4127-a9ea-4e3f7e898aa5",
   "metadata": {
    "tags": []
   },
   "outputs": [],
   "source": [
    "def make_digest(category):\n",
    "    print('make_digest', category)\n",
    "    print('before filtering:')\n",
    "    print(df1[[category,'predict_like']].describe())\n",
    "    df_tmp = df1[(df1['predict_like']>20)]\n",
    "    df_tmp = df_tmp.sort_values(category, ascending=False).reset_index(drop=True)\n",
    "    df_tmp = df_tmp[:top_n]    \n",
    "    df_tmp = df_tmp.sort_values('timestamp').reset_index(drop=True)\n",
    "    print('after filtering:')\n",
    "    print(df_tmp[[category,'predict_like']].describe())\n",
    "    prompt = make_prompt(df_tmp)\n",
    "    print('prompt', len(prompt))\n",
    "    result = call_vertex_ai(prompt)\n",
    "    digest = parse_vertex_response(result)\n",
    "    if digest is not None and 'title' in digest and 'summary' in digest and 'links' in digest:\n",
    "        print('digest')\n",
    "        print(json.dumps(digest, indent=4))\n",
    "        links = df_tmp[df_tmp['id'].isin(digest['links'])][links_cols].to_dict(orient='records')\n",
    "        print('links')\n",
    "        print(json.dumps(links, indent=4))\n",
    "        digest['key'] = category\n",
    "        digest['links'] = links\n",
    "    else:\n",
    "        print('bad result')\n",
    "        print(result.text)\n",
    "    return digest"
   ]
  },
  {
   "cell_type": "code",
   "execution_count": null,
   "id": "1a6f4a95-2c32-4ba8-a18a-436c738ce0cf",
   "metadata": {},
   "outputs": [],
   "source": []
  },
  {
   "cell_type": "code",
   "execution_count": null,
   "id": "0723a356-05ce-4208-a6b4-89101eab568b",
   "metadata": {
    "tags": []
   },
   "outputs": [],
   "source": [
    "data = []"
   ]
  },
  {
   "cell_type": "code",
   "execution_count": null,
   "id": "60d1c242-f327-4efd-be4d-63b3357a4b8e",
   "metadata": {
    "tags": []
   },
   "outputs": [],
   "source": [
    "for c in categories:\n",
    "    print(c+('#'*32))\n",
    "    digest = make_digest(c)\n",
    "    if digest is not None:\n",
    "        data.append(digest)\n",
    "        time.sleep(15)\n",
    "    print(c+('#'*32))\n",
    "    print()\n",
    "    print()"
   ]
  },
  {
   "cell_type": "code",
   "execution_count": null,
   "id": "1890b8ac-8682-4350-8afe-dd491ad0c476",
   "metadata": {},
   "outputs": [],
   "source": []
  },
  {
   "cell_type": "markdown",
   "id": "c820b5c4-4293-4389-9bc3-b99c423d3c09",
   "metadata": {
    "editable": true,
    "slideshow": {
     "slide_type": ""
    },
    "tags": [
     "parameters"
    ]
   },
   "source": [
    "# Save output"
   ]
  },
  {
   "cell_type": "code",
   "execution_count": null,
   "id": "9d87ab59-e694-4776-b2da-106a0e7b1a9a",
   "metadata": {
    "tags": []
   },
   "outputs": [],
   "source": [
    "len(data)"
   ]
  },
  {
   "cell_type": "code",
   "execution_count": null,
   "id": "cd5de841-c2a4-426c-a568-c7dc881897e7",
   "metadata": {
    "tags": []
   },
   "outputs": [],
   "source": [
    "output_file = sample_day + '.json'\n",
    "output_file"
   ]
  },
  {
   "cell_type": "code",
   "execution_count": null,
   "id": "9e5e3489-564c-4a33-ba17-5ca0d97f3a4a",
   "metadata": {
    "tags": []
   },
   "outputs": [],
   "source": [
    "with open(output_file, 'w') as fp:\n",
    "    json.dump(data, fp)"
   ]
  },
  {
   "cell_type": "code",
   "execution_count": null,
   "id": "777243d9-2dd4-4af3-9f98-a26cdede58c4",
   "metadata": {
    "tags": []
   },
   "outputs": [],
   "source": [
    "! gsutil cp {output_file} {target_folder}"
   ]
  },
  {
   "cell_type": "code",
   "execution_count": null,
   "id": "f7f5f4d8-b111-4385-8c48-94d6c04f2c3d",
   "metadata": {},
   "outputs": [],
   "source": []
  },
  {
   "cell_type": "code",
   "execution_count": null,
   "id": "8bef4abe-4bad-44ee-adf6-134779af59ba",
   "metadata": {},
   "outputs": [],
   "source": []
  },
  {
   "cell_type": "code",
   "execution_count": null,
   "id": "aef7b952-6817-4b62-9316-cd740a5d3bce",
   "metadata": {},
   "outputs": [],
   "source": []
  }
 ],
 "metadata": {
  "environment": {
   "kernel": "conda-base-py",
   "name": "workbench-notebooks.m122",
   "type": "gcloud",
   "uri": "us-docker.pkg.dev/deeplearning-platform-release/gcr.io/workbench-notebooks:m122"
  },
  "kernelspec": {
   "display_name": "Python 3 (ipykernel) (Local)",
   "language": "python",
   "name": "conda-base-py"
  },
  "language_info": {
   "codemirror_mode": {
    "name": "ipython",
    "version": 3
   },
   "file_extension": ".py",
   "mimetype": "text/x-python",
   "name": "python",
   "nbconvert_exporter": "python",
   "pygments_lexer": "ipython3",
   "version": "3.10.14"
  }
 },
 "nbformat": 4,
 "nbformat_minor": 5
}
