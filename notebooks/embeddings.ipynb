{
 "cells": [
  {
   "cell_type": "code",
   "execution_count": null,
   "id": "2abaad17-727e-4f87-be96-db8c4e4780a0",
   "metadata": {
    "tags": []
   },
   "outputs": [],
   "source": [
    "from datetime import datetime, timedelta"
   ]
  },
  {
   "cell_type": "markdown",
   "id": "bed4ce95-535e-4593-9807-fde79cbbee6f",
   "metadata": {
    "tags": []
   },
   "source": [
    "# Notebook parameters"
   ]
  },
  {
   "cell_type": "code",
   "execution_count": null,
   "id": "ae3d9729-57f8-4e94-afea-b42a72312ff6",
   "metadata": {
    "tags": [
     "parameters"
    ]
   },
   "outputs": [],
   "source": [
    "sample_day = (datetime.now().date() - timedelta(days=1)).strftime('%Y-%m-%d')\n",
    "source_folder = 'gs://dsart_nearline1/pipelines/samples/100k/'\n",
    "target_folder = 'gs://dsart_nearline1/pipelines/embeds/'"
   ]
  },
  {
   "cell_type": "code",
   "execution_count": null,
   "id": "69f62ff9-91dd-416f-a788-05d3a723ae0f",
   "metadata": {
    "tags": []
   },
   "outputs": [],
   "source": [
    "sample_day"
   ]
  },
  {
   "cell_type": "markdown",
   "id": "b8831bd7-cd14-4a8f-b4f9-87e9a68faa0c",
   "metadata": {},
   "source": [
    "# Dependencies"
   ]
  },
  {
   "cell_type": "code",
   "execution_count": null,
   "id": "7ffde1ba-f3d0-4fa3-86d2-4043d59eb594",
   "metadata": {
    "tags": []
   },
   "outputs": [],
   "source": [
    "! pip install \"tensorflow==2.11.0\""
   ]
  },
  {
   "cell_type": "code",
   "execution_count": null,
   "id": "b846edac-3ad3-453f-b53d-54ee8177b975",
   "metadata": {
    "tags": []
   },
   "outputs": [],
   "source": [
    "! pip install \"tensorflow-text==2.11.0\""
   ]
  },
  {
   "cell_type": "code",
   "execution_count": null,
   "id": "e1de7154-8759-4ab0-be7e-aa15d7ec4a69",
   "metadata": {
    "tags": []
   },
   "outputs": [],
   "source": [
    "! pip install \"tensorflow-hub==0.11.0\""
   ]
  },
  {
   "cell_type": "code",
   "execution_count": null,
   "id": "c7abb665-cb41-4d39-b240-2d0892bb0fa5",
   "metadata": {
    "tags": []
   },
   "outputs": [],
   "source": [
    "import os\n",
    "import pandas\n",
    "import tensorflow as tf\n",
    "import tensorflow_hub as hub\n",
    "import tensorflow_text as text\n",
    "import time\n",
    "import numpy\n",
    "import json\n",
    "from dotenv import load_dotenv"
   ]
  },
  {
   "cell_type": "code",
   "execution_count": null,
   "id": "b32d7476-da66-4260-ae4d-71b8e811ab64",
   "metadata": {
    "tags": []
   },
   "outputs": [],
   "source": [
    "load_dotenv()\n",
    "tf.get_logger().setLevel('ERROR')"
   ]
  },
  {
   "cell_type": "markdown",
   "id": "f567c3f0-8436-41c9-b9c6-5578f2220949",
   "metadata": {
    "tags": []
   },
   "source": [
    "# Load dataframe"
   ]
  },
  {
   "cell_type": "code",
   "execution_count": null,
   "id": "074faf01-8d26-4038-9639-ec1580dfc223",
   "metadata": {
    "tags": []
   },
   "outputs": [],
   "source": [
    "file1 = sample_day+'_df.csv'\n",
    "file1_source = source_folder + file1\n",
    "file1_source"
   ]
  },
  {
   "cell_type": "code",
   "execution_count": null,
   "id": "d396c783-0e45-4a95-881f-0e9457d622a1",
   "metadata": {
    "tags": []
   },
   "outputs": [],
   "source": [
    "! gsutil cp {file1_source} ."
   ]
  },
  {
   "cell_type": "code",
   "execution_count": null,
   "id": "d06becd3-3af9-43b1-acbb-027a5188880f",
   "metadata": {
    "tags": []
   },
   "outputs": [],
   "source": [
    "df = pandas.read_csv(file1, lineterminator='\\n')\n",
    "df"
   ]
  },
  {
   "cell_type": "code",
   "execution_count": null,
   "id": "bd965ba5-d822-4d23-9717-a4d1c9412710",
   "metadata": {
    "tags": []
   },
   "outputs": [],
   "source": [
    "if 'text\\r' in df.columns:\n",
    "    df.rename(columns={'text\\r':'text'}, inplace=True)"
   ]
  },
  {
   "cell_type": "code",
   "execution_count": null,
   "id": "8413af2f-5894-4f21-998d-c89e7d1c0984",
   "metadata": {
    "tags": []
   },
   "outputs": [],
   "source": [
    "len(df['fid'].unique())"
   ]
  },
  {
   "cell_type": "code",
   "execution_count": null,
   "id": "9c9cdb45-d781-4b24-a755-5a3e78692f59",
   "metadata": {
    "tags": []
   },
   "outputs": [],
   "source": [
    "df"
   ]
  },
  {
   "cell_type": "code",
   "execution_count": null,
   "id": "edb660bc-a35b-482f-94ff-9981712ae9d0",
   "metadata": {
    "tags": []
   },
   "outputs": [],
   "source": [
    "model_preprocess = 'https://tfhub.dev/tensorflow/bert_multi_cased_preprocess/3'\n",
    "model_handle = 'https://tfhub.dev/tensorflow/bert_multi_cased_L-12_H-768_A-12/3'"
   ]
  },
  {
   "cell_type": "code",
   "execution_count": null,
   "id": "c4f8f0bb-e317-49ec-b464-4fd198fc8c3e",
   "metadata": {
    "tags": []
   },
   "outputs": [],
   "source": [
    "bert_preprocess_model = hub.KerasLayer(model_preprocess)"
   ]
  },
  {
   "cell_type": "code",
   "execution_count": null,
   "id": "d3dd979f-a591-478f-b0ed-0f54f9e2476b",
   "metadata": {
    "tags": []
   },
   "outputs": [],
   "source": [
    "bert_model = hub.KerasLayer(model_handle)"
   ]
  },
  {
   "cell_type": "code",
   "execution_count": null,
   "id": "e6ba8453-6373-4538-8510-3cd96cbe8752",
   "metadata": {
    "tags": []
   },
   "outputs": [],
   "source": [
    "batch_size = 256"
   ]
  },
  {
   "cell_type": "code",
   "execution_count": null,
   "id": "1cde648a-30ec-47f6-b544-158e941ef872",
   "metadata": {
    "tags": []
   },
   "outputs": [],
   "source": [
    "def chunker(seq, size):\n",
    "    return (seq[pos:pos + size] for pos in range(0, len(seq), size))"
   ]
  },
  {
   "cell_type": "code",
   "execution_count": null,
   "id": "1908657d-99bd-47b1-b220-4522609c9ea3",
   "metadata": {
    "tags": []
   },
   "outputs": [],
   "source": [
    "posts = [str(x) for x in df['text'].tolist()]"
   ]
  },
  {
   "cell_type": "code",
   "execution_count": null,
   "id": "db9afeba-5e8b-4c76-af22-37b12fda65aa",
   "metadata": {
    "tags": []
   },
   "outputs": [],
   "source": [
    "embeds = []\n",
    "progress = 0\n",
    "t0 = time.time()\n",
    "for chunk in chunker(posts, batch_size):\n",
    "    preprocessed = bert_preprocess_model(chunk)\n",
    "    bert_results = bert_model(preprocessed)\n",
    "    for x in bert_results[\"pooled_output\"]:\n",
    "        embeds.append(x.numpy())\n",
    "    progress += 1\n",
    "    t1 = time.time()\n",
    "    if progress%10==0:\n",
    "        print(progress*batch_size, t1-t0)\n",
    "embeds = numpy.array(embeds)\n",
    "print(embeds.shape)\n",
    "t1 = time.time()\n",
    "print('Done', t1-t0)"
   ]
  },
  {
   "cell_type": "code",
   "execution_count": null,
   "id": "9e5e3489-564c-4a33-ba17-5ca0d97f3a4a",
   "metadata": {
    "tags": []
   },
   "outputs": [],
   "source": [
    "file2 = sample_day+'_embeds.npy'\n",
    "numpy.save(file2, embeds)"
   ]
  },
  {
   "cell_type": "code",
   "execution_count": null,
   "id": "777243d9-2dd4-4af3-9f98-a26cdede58c4",
   "metadata": {
    "tags": []
   },
   "outputs": [],
   "source": [
    "! gsutil cp {file2} {target_folder}"
   ]
  },
  {
   "cell_type": "code",
   "execution_count": null,
   "id": "7ab67bac-98a7-48ed-a0ef-c4720c134631",
   "metadata": {},
   "outputs": [],
   "source": []
  }
 ],
 "metadata": {
  "environment": {
   "kernel": "conda-base-py",
   "name": "workbench-notebooks.m122",
   "type": "gcloud",
   "uri": "us-docker.pkg.dev/deeplearning-platform-release/gcr.io/workbench-notebooks:m122"
  },
  "kernelspec": {
   "display_name": "Python 3 (ipykernel) (Local)",
   "language": "python",
   "name": "conda-base-py"
  },
  "language_info": {
   "codemirror_mode": {
    "name": "ipython",
    "version": 3
   },
   "file_extension": ".py",
   "mimetype": "text/x-python",
   "name": "python",
   "nbconvert_exporter": "python",
   "pygments_lexer": "ipython3",
   "version": "3.10.14"
  }
 },
 "nbformat": 4,
 "nbformat_minor": 5
}
