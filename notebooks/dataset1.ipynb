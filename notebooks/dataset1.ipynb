{
 "cells": [
  {
   "cell_type": "code",
   "execution_count": null,
   "id": "2abaad17-727e-4f87-be96-db8c4e4780a0",
   "metadata": {
    "tags": []
   },
   "outputs": [],
   "source": [
    "from datetime import datetime, timedelta"
   ]
  },
  {
   "cell_type": "markdown",
   "id": "bed4ce95-535e-4593-9807-fde79cbbee6f",
   "metadata": {},
   "source": [
    "# Notebook parameters"
   ]
  },
  {
   "cell_type": "code",
   "execution_count": null,
   "id": "ae3d9729-57f8-4e94-afea-b42a72312ff6",
   "metadata": {
    "editable": true,
    "slideshow": {
     "slide_type": ""
    },
    "tags": [
     "parameters"
    ]
   },
   "outputs": [],
   "source": [
    "sample_day = (datetime.now().date() - timedelta(days=1)).strftime('%Y-%m-%d')\n",
    "source_folder1 = 'gs://dsart_nearline1/pipelines/gambit1/'\n",
    "source_folder2 = 'gs://dsart_nearline1/pipelines/snapshots/engagement8h/'\n",
    "source_folder3 = 'gs://dsart_nearline1/pipelines/snapshots/links/'\n",
    "target_folder = 'gs://dsart_nearline1/pipelines/dataset1/'"
   ]
  },
  {
   "cell_type": "code",
   "execution_count": null,
   "id": "69f62ff9-91dd-416f-a788-05d3a723ae0f",
   "metadata": {
    "tags": []
   },
   "outputs": [],
   "source": [
    "sample_day"
   ]
  },
  {
   "cell_type": "markdown",
   "id": "b8831bd7-cd14-4a8f-b4f9-87e9a68faa0c",
   "metadata": {},
   "source": [
    "# Dependencies"
   ]
  },
  {
   "cell_type": "code",
   "execution_count": null,
   "id": "c7abb665-cb41-4d39-b240-2d0892bb0fa5",
   "metadata": {
    "tags": []
   },
   "outputs": [],
   "source": [
    "import os\n",
    "import pandas\n",
    "import time\n",
    "import numpy\n",
    "import json\n",
    "from dotenv import load_dotenv"
   ]
  },
  {
   "cell_type": "markdown",
   "id": "f567c3f0-8436-41c9-b9c6-5578f2220949",
   "metadata": {
    "tags": []
   },
   "source": [
    "# Load data"
   ]
  },
  {
   "cell_type": "code",
   "execution_count": null,
   "id": "15362130-2f58-4d63-8469-4827f746c2cb",
   "metadata": {},
   "outputs": [],
   "source": [
    "def clean_column_names(df):\n",
    "    r = {}\n",
    "    for x in list(df.columns):\n",
    "        if '\\r' in x:\n",
    "            r[x] = x.replace('\\r', '')\n",
    "    if len(r)>0:        \n",
    "        print('renaming', r)\n",
    "        df.rename(columns=r, inplace=True)"
   ]
  },
  {
   "cell_type": "code",
   "execution_count": null,
   "id": "7e4437d3-d670-4073-9a71-1ee64249e157",
   "metadata": {
    "editable": true,
    "slideshow": {
     "slide_type": ""
    },
    "tags": []
   },
   "outputs": [],
   "source": [
    "file1 = sample_day+'.csv'\n",
    "file1_source = source_folder1 + file1\n",
    "file1_local = sample_day+'_gambit1.csv'\n",
    "file1_source, file1_local"
   ]
  },
  {
   "cell_type": "code",
   "execution_count": null,
   "id": "aa8bf95f-f9c5-45c4-bbbd-fc731e78c4c4",
   "metadata": {
    "editable": true,
    "slideshow": {
     "slide_type": ""
    },
    "tags": []
   },
   "outputs": [],
   "source": [
    "! gsutil cp {file1_source} {file1_local}"
   ]
  },
  {
   "cell_type": "code",
   "execution_count": null,
   "id": "16e60b0e-1d87-47ae-866c-ce3afffaf838",
   "metadata": {
    "editable": true,
    "slideshow": {
     "slide_type": ""
    },
    "tags": [
     "parameters"
    ]
   },
   "outputs": [],
   "source": [
    "df1 = pandas.read_csv(file1_local, lineterminator='\\n')"
   ]
  },
  {
   "cell_type": "code",
   "execution_count": null,
   "id": "9970de4c-9699-4dab-9959-4f55b2fc5d65",
   "metadata": {
    "editable": true,
    "slideshow": {
     "slide_type": ""
    },
    "tags": [
     "parameters"
    ]
   },
   "outputs": [],
   "source": [
    "clean_column_names(df1)"
   ]
  },
  {
   "cell_type": "code",
   "execution_count": null,
   "id": "eeb73299-15b0-4e4e-8e1b-f6f4afe29ad5",
   "metadata": {},
   "outputs": [],
   "source": [
    "df1"
   ]
  },
  {
   "cell_type": "code",
   "execution_count": null,
   "id": "0af3759a-9ea0-4121-81ed-5736bf328183",
   "metadata": {},
   "outputs": [],
   "source": []
  },
  {
   "cell_type": "code",
   "execution_count": null,
   "id": "91c4f982-afb2-4d06-9f26-33bd0f431bf2",
   "metadata": {},
   "outputs": [],
   "source": [
    "file2 = sample_day+'.csv'\n",
    "file2_source = source_folder2 + file2\n",
    "file2_local = sample_day+'_eng.csv'\n",
    "file2_source, file2_local"
   ]
  },
  {
   "cell_type": "code",
   "execution_count": null,
   "id": "822467ad-260f-4167-8d48-eeeb91ef585c",
   "metadata": {},
   "outputs": [],
   "source": [
    "! gsutil cp {file2_source} {file2_local}"
   ]
  },
  {
   "cell_type": "code",
   "execution_count": null,
   "id": "1cf14b34-a211-42d1-9168-b07115642f54",
   "metadata": {},
   "outputs": [],
   "source": [
    "df2 = pandas.read_csv(file2_local, lineterminator='\\n')"
   ]
  },
  {
   "cell_type": "code",
   "execution_count": null,
   "id": "caa5779e-9014-4663-ac29-d0c8cf7cef83",
   "metadata": {},
   "outputs": [],
   "source": [
    "clean_column_names(df2)"
   ]
  },
  {
   "cell_type": "code",
   "execution_count": null,
   "id": "32ecaa5a-d873-4562-bfb5-0cecba78ca5f",
   "metadata": {},
   "outputs": [],
   "source": [
    "df2"
   ]
  },
  {
   "cell_type": "code",
   "execution_count": null,
   "id": "69cedd2c-9411-4271-9869-575eda6878de",
   "metadata": {},
   "outputs": [],
   "source": []
  },
  {
   "cell_type": "code",
   "execution_count": null,
   "id": "91de3471-1043-4074-acb2-5f11362ccabc",
   "metadata": {},
   "outputs": [],
   "source": [
    "file3 = sample_day+'.csv'\n",
    "file3_source = source_folder3 + file3\n",
    "file3_local = sample_day+'_links.csv'\n",
    "file3_source, file3_local"
   ]
  },
  {
   "cell_type": "code",
   "execution_count": null,
   "id": "897bed63-02db-4b7d-9206-79ee725f9f17",
   "metadata": {},
   "outputs": [],
   "source": [
    "! gsutil cp {file3_source} {file3_local}"
   ]
  },
  {
   "cell_type": "code",
   "execution_count": null,
   "id": "9729e678-31a6-4f96-b9ae-211b7877e4d2",
   "metadata": {},
   "outputs": [],
   "source": [
    "df3 = pandas.read_csv(file3_local, lineterminator='\\n')"
   ]
  },
  {
   "cell_type": "code",
   "execution_count": null,
   "id": "af069f54-006a-4af7-a3b9-4ed115598033",
   "metadata": {},
   "outputs": [],
   "source": [
    "clean_column_names(df3)"
   ]
  },
  {
   "cell_type": "code",
   "execution_count": null,
   "id": "868a9f08-c1ad-40f4-b1c9-69644ef43442",
   "metadata": {},
   "outputs": [],
   "source": [
    "df3"
   ]
  },
  {
   "cell_type": "code",
   "execution_count": null,
   "id": "b40a75ac-ac3e-4432-b95a-bbcabb54a047",
   "metadata": {},
   "outputs": [],
   "source": []
  },
  {
   "cell_type": "markdown",
   "id": "7be532a3-5844-457c-84f6-b2acea4e714c",
   "metadata": {},
   "source": [
    "# Merge dataset and perform some checks"
   ]
  },
  {
   "cell_type": "code",
   "execution_count": null,
   "id": "07d2dac9-4fa3-461a-b664-d39c33ce3177",
   "metadata": {},
   "outputs": [],
   "source": [
    "df = df1.merge(df2, on='id', how='left').merge(df3, on='fid', how='left')\n",
    "df"
   ]
  },
  {
   "cell_type": "code",
   "execution_count": null,
   "id": "b2db4056-92d9-44d2-ac11-7ad6d1f50961",
   "metadata": {},
   "outputs": [],
   "source": [
    "# Check number of casts missing in engagement snapshot\n",
    "df['num_like'].isnull().sum()"
   ]
  },
  {
   "cell_type": "code",
   "execution_count": null,
   "id": "50d20e73-2c2b-4782-8675-59c6b27d6ceb",
   "metadata": {},
   "outputs": [],
   "source": [
    "# Check number of fids missing in links snapshot\n",
    "df['link_from_add'].isnull().sum()"
   ]
  },
  {
   "cell_type": "code",
   "execution_count": null,
   "id": "7d51ceae-e9aa-4a59-be0f-f1af2f64bb73",
   "metadata": {},
   "outputs": [],
   "source": [
    "# Check that cast hashes always match (except when missing)\n",
    "(df['hash']!=df['cast_hash']).sum()"
   ]
  },
  {
   "cell_type": "code",
   "execution_count": null,
   "id": "4cf82431-fe52-4d8f-92fa-1fa30ec5c5ae",
   "metadata": {},
   "outputs": [],
   "source": [
    "del df['cast_hash']"
   ]
  },
  {
   "cell_type": "code",
   "execution_count": null,
   "id": "b8059bae-2a8a-44f4-86b5-811f41a42bcb",
   "metadata": {},
   "outputs": [],
   "source": [
    "df['day'] = sample_day"
   ]
  },
  {
   "cell_type": "code",
   "execution_count": null,
   "id": "18572304-914b-41fc-8e41-1a8bb2ac2bf7",
   "metadata": {},
   "outputs": [],
   "source": [
    "df['text_len'] = df['text'].str.len()"
   ]
  },
  {
   "cell_type": "code",
   "execution_count": null,
   "id": "60c298df-37a1-495a-bfb6-70eab851002e",
   "metadata": {},
   "outputs": [],
   "source": [
    "df['num_follower'] = (df['link_to_add'] - df['link_to_del']).fillna(0)\n",
    "df['num_follower'].describe()"
   ]
  },
  {
   "cell_type": "code",
   "execution_count": null,
   "id": "2c267b72-3074-449e-ac38-9119e3ee4e6a",
   "metadata": {},
   "outputs": [],
   "source": [
    "# Some have been unfollowed more than followed, set to zero\n",
    "print((df['num_follower']<0).sum())\n",
    "df.loc[df['num_follower']<0, 'num_follower'] = 0\n",
    "df['num_follower'].describe()"
   ]
  },
  {
   "cell_type": "code",
   "execution_count": null,
   "id": "bd24f073-0a27-468c-b967-28f64eaba3ba",
   "metadata": {},
   "outputs": [],
   "source": [
    "df['num_following'] = (df['link_from_add'] - df['link_from_del']).fillna(0)\n",
    "df['num_following'].describe()"
   ]
  },
  {
   "cell_type": "code",
   "execution_count": null,
   "id": "184e4869-dbf6-434e-8878-f807b05d9edb",
   "metadata": {},
   "outputs": [],
   "source": [
    "# Some have unfollowed more than followed, set to zero\n",
    "print((df['num_following']<0).sum())\n",
    "df.loc[df['num_following']<0, 'num_following'] = 0\n",
    "df['num_following'].describe()"
   ]
  },
  {
   "cell_type": "code",
   "execution_count": null,
   "id": "bd8f5b4c-1100-44f1-9477-6118f50fc0ce",
   "metadata": {},
   "outputs": [],
   "source": [
    "# Fill in NAs in engagement table"
   ]
  },
  {
   "cell_type": "code",
   "execution_count": null,
   "id": "94987d27-0f10-4e4e-95d8-3833aa0be477",
   "metadata": {},
   "outputs": [],
   "source": [
    "df['num_like'] = df['num_like'].fillna(0)\n",
    "df['num_like'].describe()"
   ]
  },
  {
   "cell_type": "code",
   "execution_count": null,
   "id": "4df92aad-88f6-44fc-a33d-3bd23df5ae8e",
   "metadata": {},
   "outputs": [],
   "source": [
    "df['num_recast'] = df['num_recast'].fillna(0)\n",
    "df['num_recast'].describe()"
   ]
  },
  {
   "cell_type": "code",
   "execution_count": null,
   "id": "b6c33582-4970-418c-8f98-d225b5d3a141",
   "metadata": {},
   "outputs": [],
   "source": [
    "df['num_reply'] = df['num_reply'].fillna(0)\n",
    "df['num_reply'].describe()\t"
   ]
  },
  {
   "cell_type": "code",
   "execution_count": null,
   "id": "58d31170-5b07-4cac-9d80-727a65c069ec",
   "metadata": {},
   "outputs": [],
   "source": []
  },
  {
   "cell_type": "markdown",
   "id": "859fdd27-bdd7-4056-85d6-63479385ea3f",
   "metadata": {},
   "source": [
    "# Define targets"
   ]
  },
  {
   "cell_type": "code",
   "execution_count": null,
   "id": "f76b50de-8b3a-446c-9d1f-601ad61eb74d",
   "metadata": {},
   "outputs": [],
   "source": [
    "account_too_big = df['num_follower'].quantile(0.99)\n",
    "account_too_big"
   ]
  },
  {
   "cell_type": "code",
   "execution_count": null,
   "id": "86c542fc-1938-4bb2-a4c7-0c54c5641e49",
   "metadata": {},
   "outputs": [],
   "source": [
    "df = df[df['num_follower']<account_too_big].copy()\n",
    "len(df)"
   ]
  },
  {
   "cell_type": "code",
   "execution_count": null,
   "id": "2a578ae8-b120-4b30-bee4-bc6e5af4a27c",
   "metadata": {
    "editable": true,
    "slideshow": {
     "slide_type": ""
    },
    "tags": [
     "parameters"
    ]
   },
   "outputs": [],
   "source": [
    "num_bins = 20"
   ]
  },
  {
   "cell_type": "code",
   "execution_count": null,
   "id": "67c36965-fb3f-48b8-b012-431103fc9eff",
   "metadata": {
    "editable": true,
    "slideshow": {
     "slide_type": ""
    },
    "tags": [
     "parameters"
    ]
   },
   "outputs": [],
   "source": [
    "num_follower_bin, _ = pandas.qcut(df['num_follower'], num_bins, retbins=True, labels=False, duplicates='drop')\n",
    "df['num_follower_bin'] = num_follower_bin"
   ]
  },
  {
   "cell_type": "code",
   "execution_count": null,
   "id": "c8bac975-1c66-47e6-8d74-03082ff2c0ee",
   "metadata": {
    "editable": true,
    "slideshow": {
     "slide_type": ""
    },
    "tags": [
     "parameters"
    ]
   },
   "outputs": [],
   "source": [
    "agg1 = df.groupby('num_follower_bin').agg({\n",
    "    'num_follower':['count', 'min', 'mean', 'max'], \n",
    "    'text_len':['mean'], \n",
    "    'num_like':['mean', 'max'],\n",
    "    'num_recast':['mean', 'max'],\n",
    "    'num_reply':['mean', 'max']})\n",
    "agg1"
   ]
  },
  {
   "cell_type": "code",
   "execution_count": null,
   "id": "bf56ea00-470d-4590-959d-ad8291a1f8b1",
   "metadata": {
    "editable": true,
    "slideshow": {
     "slide_type": ""
    },
    "tags": [
     "parameters"
    ]
   },
   "outputs": [],
   "source": [
    "pandas.DataFrame({\n",
    "    'num_follower': agg1['num_follower']['mean'],\n",
    "    'num_like': agg1['num_like']['mean'],\n",
    "    'num_recast': agg1['num_recast']['mean'],\n",
    "    'num_reply': agg1['num_reply']['mean']\n",
    "}).plot(x='num_follower', y=['num_like', 'num_recast', 'num_reply'])"
   ]
  },
  {
   "cell_type": "code",
   "execution_count": null,
   "id": "eaeabcb4-a2d3-4d62-9559-e28af679445e",
   "metadata": {},
   "outputs": [],
   "source": [
    "text_len_bin, _ = pandas.qcut(df['text_len'], num_bins, retbins=True, labels=False, duplicates='drop')\n",
    "df['text_len_bin'] = text_len_bin"
   ]
  },
  {
   "cell_type": "code",
   "execution_count": null,
   "id": "d8c53c5d-c7ae-4eaa-9ddb-831347db2127",
   "metadata": {
    "editable": true,
    "slideshow": {
     "slide_type": ""
    },
    "tags": [
     "parameters"
    ]
   },
   "outputs": [],
   "source": [
    "agg2 = df.groupby('text_len_bin').agg({\n",
    "    'num_follower':['count', 'min', 'mean', 'max'], \n",
    "    'text_len':['mean'], \n",
    "    'num_like':['mean', 'max'],\n",
    "    'num_recast':['mean', 'max'],\n",
    "    'num_reply':['mean', 'max']})\n",
    "agg2"
   ]
  },
  {
   "cell_type": "code",
   "execution_count": null,
   "id": "4063de98-1f18-4983-8dce-c9917f23d33f",
   "metadata": {
    "editable": true,
    "slideshow": {
     "slide_type": ""
    },
    "tags": [
     "parameters"
    ]
   },
   "outputs": [],
   "source": [
    "pandas.DataFrame({\n",
    "    'text_len': agg2['text_len']['mean'],\n",
    "    'num_like': agg1['num_like']['mean'],\n",
    "    'num_recast': agg1['num_recast']['mean'],\n",
    "    'num_reply': agg1['num_reply']['mean']\n",
    "}).plot(x='text_len', y=['num_like', 'num_recast', 'num_reply'])"
   ]
  },
  {
   "cell_type": "code",
   "execution_count": null,
   "id": "27e82209-6e6d-4bc3-a320-56db89408041",
   "metadata": {
    "editable": true,
    "slideshow": {
     "slide_type": ""
    },
    "tags": [
     "parameters"
    ]
   },
   "outputs": [],
   "source": [
    "df_target = []\n",
    "cols_target = ['id', 'num_follower', 'num_like', 'num_recast', 'num_reply', 'hash']"
   ]
  },
  {
   "cell_type": "code",
   "execution_count": null,
   "id": "24f632a3-eb17-4722-a5c7-252c409a1a28",
   "metadata": {},
   "outputs": [],
   "source": [
    "def target_top(df_tmp, label, fraction):\n",
    "    df_tmp[label] = 0\n",
    "    top = int(len(df_tmp)*fraction)\n",
    "    df_tmp.loc[df_tmp.index[:top], label] = 1"
   ]
  },
  {
   "cell_type": "code",
   "execution_count": null,
   "id": "26e168f8-82b3-4aca-b353-fc859d8b4de4",
   "metadata": {},
   "outputs": [],
   "source": [
    "def make_bin_target(df_tmp):\n",
    "    df_tmp.sort_values('hash', inplace=True)\n",
    "    df_tmp.sort_values('num_follower', inplace=True, ascending=True)\n",
    "    df_tmp.sort_values(['num_like', 'num_recast', 'num_reply'], inplace=True, ascending=False)\n",
    "    df_tmp.reset_index(inplace=True, drop=True)\n",
    "    target_top(df_tmp, 'target_05', 0.05)\n",
    "    target_top(df_tmp, 'target_10', 0.10)\n",
    "    target_top(df_tmp, 'target_15', 0.15)\n",
    "    target_top(df_tmp, 'target_20', 0.20)\n",
    "    target_top(df_tmp, 'target_25', 0.25)\n",
    "    del df_tmp['num_follower']\n",
    "    del df_tmp['num_like']\n",
    "    del df_tmp['num_recast']\n",
    "    del df_tmp['num_reply']\n",
    "    del df_tmp['hash']\n",
    "    return df_tmp"
   ]
  },
  {
   "cell_type": "code",
   "execution_count": null,
   "id": "46ab0355-7c70-4e82-8afd-09cc8e6909ed",
   "metadata": {},
   "outputs": [],
   "source": [
    "num_follower_bins = len(df['num_follower_bin'].unique())\n",
    "num_follower_bins"
   ]
  },
  {
   "cell_type": "code",
   "execution_count": null,
   "id": "c66b517b-c2ab-4ffa-a5b9-72582ad036ee",
   "metadata": {},
   "outputs": [],
   "source": [
    "text_len_bins = len(df['text_len_bin'].unique())\n",
    "text_len_bins"
   ]
  },
  {
   "cell_type": "code",
   "execution_count": null,
   "id": "7995923f-6c46-4243-be85-86d157631231",
   "metadata": {
    "editable": true,
    "slideshow": {
     "slide_type": ""
    },
    "tags": [
     "parameters"
    ]
   },
   "outputs": [],
   "source": [
    "for i in range(0, num_follower_bins):\n",
    "    df_i = df[df['num_follower_bin']==i].copy()\n",
    "    for j in range(0, text_len_bins):\n",
    "        df_j = df_i[df_i['text_len_bin']==j][cols_target].copy()\n",
    "        df_tmp = make_bin_target(df_j)\n",
    "        df_target.append(df_tmp)\n",
    "len(df_target)"
   ]
  },
  {
   "cell_type": "code",
   "execution_count": null,
   "id": "ed629e97-fba5-42a8-beba-d14e4de1f65c",
   "metadata": {
    "editable": true,
    "slideshow": {
     "slide_type": ""
    },
    "tags": [
     "parameters"
    ]
   },
   "outputs": [],
   "source": [
    "df_target = pandas.concat(df_target, axis=0)\n",
    "df_target"
   ]
  },
  {
   "cell_type": "code",
   "execution_count": null,
   "id": "3cfbe13d-1b7b-447e-8720-e2e64d1541f7",
   "metadata": {},
   "outputs": [],
   "source": [
    "df_target[['target_05', 'target_10', 'target_15', 'target_20', 'target_25']].mean()"
   ]
  },
  {
   "cell_type": "code",
   "execution_count": null,
   "id": "e54f49c1-f85d-4bf4-84ac-21896024c773",
   "metadata": {},
   "outputs": [],
   "source": [
    "df = df.merge(df_target, on='id')\n",
    "df"
   ]
  },
  {
   "cell_type": "code",
   "execution_count": null,
   "id": "80c3dca0-74bd-4bbf-951c-50c6f50a7dee",
   "metadata": {},
   "outputs": [],
   "source": [
    "df.groupby('target_05').agg({\n",
    "    'text_len':['mean'],\n",
    "    'text_len_bin':['mean'],\n",
    "    'num_follower':['mean'], \n",
    "    'num_follower_bin':['mean'], \n",
    "    'num_like':['mean']\n",
    "})"
   ]
  },
  {
   "cell_type": "code",
   "execution_count": null,
   "id": "5bb1204e-8740-4532-8afc-368c4bf993ac",
   "metadata": {},
   "outputs": [],
   "source": [
    "df.groupby('target_10').agg({\n",
    "    'text_len_bin':['mean'],\n",
    "    'num_follower_bin':['mean'], \n",
    "    'num_like':['mean']\n",
    "})"
   ]
  },
  {
   "cell_type": "code",
   "execution_count": null,
   "id": "3dd18a04-fdc0-487c-b343-cffb3075ac54",
   "metadata": {},
   "outputs": [],
   "source": [
    "df.groupby('target_15').agg({\n",
    "    'text_len_bin':['mean'],\n",
    "    'num_follower_bin':['mean'], \n",
    "    'num_like':['mean']\n",
    "})"
   ]
  },
  {
   "cell_type": "code",
   "execution_count": null,
   "id": "9ef5417b-e7d4-4df4-ac1c-c006eab33107",
   "metadata": {},
   "outputs": [],
   "source": [
    "df.groupby('target_20').agg({\n",
    "    'text_len_bin':['mean'],\n",
    "    'num_follower_bin':['mean'], \n",
    "    'num_like':['mean']\n",
    "})"
   ]
  },
  {
   "cell_type": "code",
   "execution_count": null,
   "id": "923ab332-bcdc-423d-935e-767b13424e90",
   "metadata": {},
   "outputs": [],
   "source": [
    "df.groupby('target_25').agg({\n",
    "    'text_len_bin':['mean'],\n",
    "    'num_follower_bin':['mean'], \n",
    "    'num_like':['mean']\n",
    "})"
   ]
  },
  {
   "cell_type": "code",
   "execution_count": null,
   "id": "db5284ba-38df-4cfb-b3fb-8118fa754bfa",
   "metadata": {},
   "outputs": [],
   "source": []
  },
  {
   "cell_type": "markdown",
   "id": "62c6e977-7317-44bc-8cc4-873a4c24acd6",
   "metadata": {},
   "source": [
    "# Final Dataframe"
   ]
  },
  {
   "cell_type": "code",
   "execution_count": null,
   "id": "931ac07f-6afe-45f3-aa58-c93f52e198d5",
   "metadata": {},
   "outputs": [],
   "source": [
    "questions = [\n",
    "'q_clear',\n",
    "'q_audience',\n",
    "'q_info',\n",
    "'q_easy',\n",
    "'q_verifiable',\n",
    "'q_personal',\n",
    "'q_funny',\n",
    "'q_meme_ref',\n",
    "'q_emo_res',\n",
    "'q_happiness',\n",
    "'q_curiosity',\n",
    "'q_aggressivity',\n",
    "'q_surprise',\n",
    "'q_interesting_ask',\n",
    "'q_call_action'\n",
    "]\n",
    "len(questions)"
   ]
  },
  {
   "cell_type": "code",
   "execution_count": null,
   "id": "4f4e4c4a-49fe-4dfa-9585-37adeb921d8b",
   "metadata": {},
   "outputs": [],
   "source": [
    "categories = [\n",
    "'c_arts',\n",
    "'c_business',\n",
    "'c_crypto',\n",
    "'c_culture',\n",
    "'c_misc',\n",
    "'c_money',\n",
    "'c_na',\n",
    "'c_nature',\n",
    "'c_politics',\n",
    "'c_sports',\n",
    "'c_tech_science'\n",
    "]\n",
    "len(categories)"
   ]
  },
  {
   "cell_type": "code",
   "execution_count": null,
   "id": "432ee998-90fe-4cb4-93b5-6cd2dc7fc69b",
   "metadata": {},
   "outputs": [],
   "source": [
    "topics = [\n",
    "'t_advertising','t_analysis','t_animals','t_artificial_intelligence',\n",
    "'t_basketball','t_bitcoin','t_blockchain','t_books',\n",
    "'t_cats','t_chess','t_coding','t_comedy',\n",
    "'t_data','t_defi','t_degen','t_design','t_dogs',\n",
    "'t_economy','t_elections','t_ethereum',\n",
    "'t_family','t_farcaster','t_fashion','t_finance','t_fitness','t_food','t_football','t_founders',\n",
    "'t_gaming','t_greetings','t_growth',\n",
    "'t_health','t_history','t_holidays',\n",
    "'t_jobs',\n",
    "'t_lifestyle',\n",
    "'t_marketing','t_markets','t_maths','t_movies','t_music',\n",
    "'t_na','t_news','t_nft',\n",
    "'t_other','t_outdoors',\n",
    "'t_people','t_photography','t_physics','t_prices',\n",
    "'t_real_estate','t_roasting',\n",
    "'t_science','t_security','t_shopping','t_solana',\n",
    "'t_technology','t_tennis','t_trading','t_travel',\n",
    "'t_weather'\n",
    "]\n",
    "len(topics)"
   ]
  },
  {
   "cell_type": "code",
   "execution_count": null,
   "id": "c7fda6a1-8303-4fc6-b80f-ed1436ddef36",
   "metadata": {},
   "outputs": [],
   "source": [
    "df['category'] = numpy.argmax(df[categories], axis=1)"
   ]
  },
  {
   "cell_type": "code",
   "execution_count": null,
   "id": "a6dff4ce-1d22-4443-a2a5-c4154bd046d7",
   "metadata": {},
   "outputs": [],
   "source": [
    "df['category_label'] = df['category'].apply(lambda x: categories[x])"
   ]
  },
  {
   "cell_type": "code",
   "execution_count": null,
   "id": "717f3c26-1d2e-47b4-97b1-6ee48387aef1",
   "metadata": {},
   "outputs": [],
   "source": [
    "df['topic'] = numpy.argmax(df[topics], axis=1)"
   ]
  },
  {
   "cell_type": "code",
   "execution_count": null,
   "id": "45fcf82b-7a1e-4178-9466-f62c918c785f",
   "metadata": {},
   "outputs": [],
   "source": [
    "df['topic_label'] = df['topic'].apply(lambda x: topics[x])"
   ]
  },
  {
   "cell_type": "code",
   "execution_count": null,
   "id": "0f9d9f3c-549e-43f2-8177-a6d6a530f18f",
   "metadata": {},
   "outputs": [],
   "source": [
    "if 'timestamp' not in df.columns:\n",
    "    df['timestamp'] = df['day'] "
   ]
  },
  {
   "cell_type": "code",
   "execution_count": null,
   "id": "259c7607-39f2-430a-adc2-1e1a9690da3a",
   "metadata": {},
   "outputs": [],
   "source": [
    "first = [\n",
    "    'day',\n",
    "    'timestamp',\n",
    "    'id',\n",
    "    'hash',\n",
    "    'fid',\n",
    "    'text',\n",
    "    'text_len',\n",
    "    'category',\n",
    "    'category_label',\n",
    "    'topic',\n",
    "    'topic_label',\n",
    "    'num_like',\n",
    "    'num_recast',\n",
    "    'num_reply',\n",
    "    'link_from_add',\n",
    "    'link_from_del',\n",
    "    'link_to_add',\n",
    "    'link_to_del',\n",
    "    'num_follower',\n",
    "    'num_following',\n",
    "    'num_follower_bin',\n",
    "    'text_len_bin',\n",
    "    'target_05',\n",
    "    'target_10',\n",
    "    'target_15',\n",
    "    'target_20',\n",
    "    'target_25',\n",
    "    'dim_1',\n",
    "    'dim_2',\n",
    "    'dim_3' \n",
    "]\n",
    "len(first)"
   ]
  },
  {
   "cell_type": "code",
   "execution_count": null,
   "id": "61d2cd13-fa5a-4c44-8304-5bd071d4c7f6",
   "metadata": {},
   "outputs": [],
   "source": [
    "all_columns = first + questions + categories + topics\n",
    "len(all_columns)"
   ]
  },
  {
   "cell_type": "code",
   "execution_count": null,
   "id": "76d57177-2898-4239-b1b6-381f1cb98898",
   "metadata": {},
   "outputs": [],
   "source": [
    "dropped_columns = [x for x in df.columns if x not in all_columns]\n",
    "dropped_columns"
   ]
  },
  {
   "cell_type": "code",
   "execution_count": null,
   "id": "a35f084a-70cb-4b4b-80ac-4293c4e71755",
   "metadata": {},
   "outputs": [],
   "source": [
    "df = df[all_columns]\n",
    "df"
   ]
  },
  {
   "cell_type": "code",
   "execution_count": null,
   "id": "b6eec332-0732-44bd-9fed-b8d96908c553",
   "metadata": {},
   "outputs": [],
   "source": []
  },
  {
   "cell_type": "markdown",
   "id": "1e4fd49b-1a8c-4b8a-bafe-2a5f1545baba",
   "metadata": {},
   "source": [
    "# Look at topics classification"
   ]
  },
  {
   "cell_type": "code",
   "execution_count": null,
   "id": "b02e5acb-4607-4ce8-8197-064214944b37",
   "metadata": {},
   "outputs": [],
   "source": [
    "for i in range(len(categories)):\n",
    "    c = categories[i]\n",
    "    df_t = df[df['category']==i].sort_values(['num_like', 'num_recast', 'num_reply', c], ascending=False)[:10]\n",
    "    print('*'*32, i, c, '*'*32)\n",
    "    for _, row in df_t.iterrows():\n",
    "        print('-'*16, row['topic_label'], '-'*16)\n",
    "        print(row['text'])\n",
    "        print('-'*16, row['num_like'], row['num_recast'], row['num_reply'], '-'*16)\n",
    "    print()    \n",
    "    print()"
   ]
  },
  {
   "cell_type": "code",
   "execution_count": null,
   "id": "c3b06153-a11f-4262-b961-c0e8a6d0f654",
   "metadata": {},
   "outputs": [],
   "source": []
  },
  {
   "cell_type": "markdown",
   "id": "1f171317-b894-42b3-aa87-c5503fc22609",
   "metadata": {},
   "source": [
    "# Look at questions features"
   ]
  },
  {
   "cell_type": "code",
   "execution_count": null,
   "id": "d17a0131-bfa9-4268-9193-7d013f237618",
   "metadata": {},
   "outputs": [],
   "source": [
    "for i in range(len(questions)):\n",
    "    q = questions[i]\n",
    "    df_q = df.sort_values(q)\n",
    "    print('*'*32, i, q, '*'*32)\n",
    "    for _, row in df_q[:5].iterrows():\n",
    "        print('-'*16, 'low', row[q], '-'*16)\n",
    "        print(row['text'])\n",
    "    for _, row in df_q[-5:].iterrows():\n",
    "        print('-'*16, 'high', row[q], '-'*16)\n",
    "        print(row['text'])\n",
    "    print()    \n",
    "    print()"
   ]
  },
  {
   "cell_type": "code",
   "execution_count": null,
   "id": "40ac3005-6ca4-4f56-9a5b-79fde70e1338",
   "metadata": {},
   "outputs": [],
   "source": []
  },
  {
   "cell_type": "code",
   "execution_count": null,
   "id": "545ea29c-343e-4be6-8c43-f283d2ca7a88",
   "metadata": {},
   "outputs": [],
   "source": []
  },
  {
   "cell_type": "markdown",
   "id": "c820b5c4-4293-4389-9bc3-b99c423d3c09",
   "metadata": {
    "editable": true,
    "slideshow": {
     "slide_type": ""
    },
    "tags": [
     "parameters"
    ]
   },
   "source": [
    "# Save output"
   ]
  },
  {
   "cell_type": "code",
   "execution_count": null,
   "id": "cd5de841-c2a4-426c-a568-c7dc881897e7",
   "metadata": {
    "tags": []
   },
   "outputs": [],
   "source": [
    "output_file = sample_day + '.csv'\n",
    "output_file"
   ]
  },
  {
   "cell_type": "code",
   "execution_count": null,
   "id": "9e5e3489-564c-4a33-ba17-5ca0d97f3a4a",
   "metadata": {
    "tags": []
   },
   "outputs": [],
   "source": [
    "df.to_csv(output_file, index=False, float_format='%.2f')"
   ]
  },
  {
   "cell_type": "code",
   "execution_count": null,
   "id": "777243d9-2dd4-4af3-9f98-a26cdede58c4",
   "metadata": {
    "tags": []
   },
   "outputs": [],
   "source": [
    "! gsutil cp {output_file} {target_folder}"
   ]
  },
  {
   "cell_type": "code",
   "execution_count": null,
   "id": "f7f5f4d8-b111-4385-8c48-94d6c04f2c3d",
   "metadata": {},
   "outputs": [],
   "source": []
  }
 ],
 "metadata": {
  "environment": {
   "kernel": "conda-base-py",
   "name": "workbench-notebooks.m122",
   "type": "gcloud",
   "uri": "us-docker.pkg.dev/deeplearning-platform-release/gcr.io/workbench-notebooks:m122"
  },
  "kernelspec": {
   "display_name": "Python 3 (ipykernel)",
   "language": "python",
   "name": "python3"
  },
  "language_info": {
   "codemirror_mode": {
    "name": "ipython",
    "version": 3
   },
   "file_extension": ".py",
   "mimetype": "text/x-python",
   "name": "python",
   "nbconvert_exporter": "python",
   "pygments_lexer": "ipython3",
   "version": "3.11.6"
  }
 },
 "nbformat": 4,
 "nbformat_minor": 5
}
